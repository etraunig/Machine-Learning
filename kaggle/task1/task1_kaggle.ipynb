{
  "cells": [
    {
      "cell_type": "markdown",
      "source": [
        "Alunos: Eduardo Enes Traunig, Erick Branquinho Machado - Atividade 1 do Kaggle"
      ],
      "metadata": {
        "id": "rJiA4fPUjry5"
      }
    },
    {
      "cell_type": "code",
      "source": [
        "# Students: Eduardo Enes Traunig, Erick Branquinho Machado\n",
        "search_for_model = True"
      ],
      "metadata": {
        "id": "Lq-xUCDUj0NL"
      },
      "execution_count": 19,
      "outputs": []
    },
    {
      "cell_type": "markdown",
      "source": [
        "Imports"
      ],
      "metadata": {
        "id": "Ss2KP-kGjriX"
      }
    },
    {
      "cell_type": "code",
      "execution_count": 20,
      "metadata": {
        "id": "1FLMM_hqbzpF"
      },
      "outputs": [],
      "source": [
        "from pathlib import Path\n",
        "\n",
        "import pandas as pd\n",
        "import matplotlib.pyplot as plt\n",
        "\n",
        "from sklearn.preprocessing import StandardScaler, MinMaxScaler\n",
        "from sklearn.model_selection import train_test_split, cross_val_score, GridSearchCV\n",
        "from sklearn.metrics import accuracy_score, f1_score, precision_score, recall_score\n",
        "\n",
        "from sklearn.naive_bayes import GaussianNB\n",
        "from sklearn.neighbors import KNeighborsClassifier\n",
        "from sklearn.tree import DecisionTreeClassifier\n",
        "from sklearn.pipeline import make_pipeline"
      ]
    },
    {
      "cell_type": "markdown",
      "source": [
        "Getting training and testing data from github"
      ],
      "metadata": {
        "id": "z_RkGALjj1C2"
      }
    },
    {
      "cell_type": "code",
      "execution_count": 21,
      "metadata": {
        "id": "LnG0FNnSbzpI",
        "colab": {
          "base_uri": "https://localhost:8080/",
          "height": 206
        },
        "outputId": "473ec395-212d-46ff-8971-dc2fc714502a"
      },
      "outputs": [
        {
          "output_type": "execute_result",
          "data": {
            "text/plain": [
              "   pelvic_incidence  pelvic_tilt  lumbar_lordosis_angle  sacral_slope  \\\n",
              "0         39.056951    10.060991              25.015378     28.995960   \n",
              "1         68.832021    22.218482              50.092194     46.613539   \n",
              "2         49.712859     9.652075              28.317406     40.060784   \n",
              "3         40.250200    13.921907              25.124950     26.328293   \n",
              "4         53.432928    15.864336              37.165934     37.568592   \n",
              "\n",
              "   pelvic_radius  degree_spondylolisthesis   class  \n",
              "0     114.405425                  4.564259  Hernia  \n",
              "1     105.985135                 -3.530317  Hernia  \n",
              "2     108.168725                  7.918501  Hernia  \n",
              "3     130.327871                  2.230652  Hernia  \n",
              "4     120.567523                  5.988551  Hernia  "
            ],
            "text/html": [
              "\n",
              "  <div id=\"df-694216cc-88cb-42b9-b998-7f2069f64cee\" class=\"colab-df-container\">\n",
              "    <div>\n",
              "<style scoped>\n",
              "    .dataframe tbody tr th:only-of-type {\n",
              "        vertical-align: middle;\n",
              "    }\n",
              "\n",
              "    .dataframe tbody tr th {\n",
              "        vertical-align: top;\n",
              "    }\n",
              "\n",
              "    .dataframe thead th {\n",
              "        text-align: right;\n",
              "    }\n",
              "</style>\n",
              "<table border=\"1\" class=\"dataframe\">\n",
              "  <thead>\n",
              "    <tr style=\"text-align: right;\">\n",
              "      <th></th>\n",
              "      <th>pelvic_incidence</th>\n",
              "      <th>pelvic_tilt</th>\n",
              "      <th>lumbar_lordosis_angle</th>\n",
              "      <th>sacral_slope</th>\n",
              "      <th>pelvic_radius</th>\n",
              "      <th>degree_spondylolisthesis</th>\n",
              "      <th>class</th>\n",
              "    </tr>\n",
              "  </thead>\n",
              "  <tbody>\n",
              "    <tr>\n",
              "      <th>0</th>\n",
              "      <td>39.056951</td>\n",
              "      <td>10.060991</td>\n",
              "      <td>25.015378</td>\n",
              "      <td>28.995960</td>\n",
              "      <td>114.405425</td>\n",
              "      <td>4.564259</td>\n",
              "      <td>Hernia</td>\n",
              "    </tr>\n",
              "    <tr>\n",
              "      <th>1</th>\n",
              "      <td>68.832021</td>\n",
              "      <td>22.218482</td>\n",
              "      <td>50.092194</td>\n",
              "      <td>46.613539</td>\n",
              "      <td>105.985135</td>\n",
              "      <td>-3.530317</td>\n",
              "      <td>Hernia</td>\n",
              "    </tr>\n",
              "    <tr>\n",
              "      <th>2</th>\n",
              "      <td>49.712859</td>\n",
              "      <td>9.652075</td>\n",
              "      <td>28.317406</td>\n",
              "      <td>40.060784</td>\n",
              "      <td>108.168725</td>\n",
              "      <td>7.918501</td>\n",
              "      <td>Hernia</td>\n",
              "    </tr>\n",
              "    <tr>\n",
              "      <th>3</th>\n",
              "      <td>40.250200</td>\n",
              "      <td>13.921907</td>\n",
              "      <td>25.124950</td>\n",
              "      <td>26.328293</td>\n",
              "      <td>130.327871</td>\n",
              "      <td>2.230652</td>\n",
              "      <td>Hernia</td>\n",
              "    </tr>\n",
              "    <tr>\n",
              "      <th>4</th>\n",
              "      <td>53.432928</td>\n",
              "      <td>15.864336</td>\n",
              "      <td>37.165934</td>\n",
              "      <td>37.568592</td>\n",
              "      <td>120.567523</td>\n",
              "      <td>5.988551</td>\n",
              "      <td>Hernia</td>\n",
              "    </tr>\n",
              "  </tbody>\n",
              "</table>\n",
              "</div>\n",
              "    <div class=\"colab-df-buttons\">\n",
              "\n",
              "  <div class=\"colab-df-container\">\n",
              "    <button class=\"colab-df-convert\" onclick=\"convertToInteractive('df-694216cc-88cb-42b9-b998-7f2069f64cee')\"\n",
              "            title=\"Convert this dataframe to an interactive table.\"\n",
              "            style=\"display:none;\">\n",
              "\n",
              "  <svg xmlns=\"http://www.w3.org/2000/svg\" height=\"24px\" viewBox=\"0 -960 960 960\">\n",
              "    <path d=\"M120-120v-720h720v720H120Zm60-500h600v-160H180v160Zm220 220h160v-160H400v160Zm0 220h160v-160H400v160ZM180-400h160v-160H180v160Zm440 0h160v-160H620v160ZM180-180h160v-160H180v160Zm440 0h160v-160H620v160Z\"/>\n",
              "  </svg>\n",
              "    </button>\n",
              "\n",
              "  <style>\n",
              "    .colab-df-container {\n",
              "      display:flex;\n",
              "      gap: 12px;\n",
              "    }\n",
              "\n",
              "    .colab-df-convert {\n",
              "      background-color: #E8F0FE;\n",
              "      border: none;\n",
              "      border-radius: 50%;\n",
              "      cursor: pointer;\n",
              "      display: none;\n",
              "      fill: #1967D2;\n",
              "      height: 32px;\n",
              "      padding: 0 0 0 0;\n",
              "      width: 32px;\n",
              "    }\n",
              "\n",
              "    .colab-df-convert:hover {\n",
              "      background-color: #E2EBFA;\n",
              "      box-shadow: 0px 1px 2px rgba(60, 64, 67, 0.3), 0px 1px 3px 1px rgba(60, 64, 67, 0.15);\n",
              "      fill: #174EA6;\n",
              "    }\n",
              "\n",
              "    .colab-df-buttons div {\n",
              "      margin-bottom: 4px;\n",
              "    }\n",
              "\n",
              "    [theme=dark] .colab-df-convert {\n",
              "      background-color: #3B4455;\n",
              "      fill: #D2E3FC;\n",
              "    }\n",
              "\n",
              "    [theme=dark] .colab-df-convert:hover {\n",
              "      background-color: #434B5C;\n",
              "      box-shadow: 0px 1px 3px 1px rgba(0, 0, 0, 0.15);\n",
              "      filter: drop-shadow(0px 1px 2px rgba(0, 0, 0, 0.3));\n",
              "      fill: #FFFFFF;\n",
              "    }\n",
              "  </style>\n",
              "\n",
              "    <script>\n",
              "      const buttonEl =\n",
              "        document.querySelector('#df-694216cc-88cb-42b9-b998-7f2069f64cee button.colab-df-convert');\n",
              "      buttonEl.style.display =\n",
              "        google.colab.kernel.accessAllowed ? 'block' : 'none';\n",
              "\n",
              "      async function convertToInteractive(key) {\n",
              "        const element = document.querySelector('#df-694216cc-88cb-42b9-b998-7f2069f64cee');\n",
              "        const dataTable =\n",
              "          await google.colab.kernel.invokeFunction('convertToInteractive',\n",
              "                                                    [key], {});\n",
              "        if (!dataTable) return;\n",
              "\n",
              "        const docLinkHtml = 'Like what you see? Visit the ' +\n",
              "          '<a target=\"_blank\" href=https://colab.research.google.com/notebooks/data_table.ipynb>data table notebook</a>'\n",
              "          + ' to learn more about interactive tables.';\n",
              "        element.innerHTML = '';\n",
              "        dataTable['output_type'] = 'display_data';\n",
              "        await google.colab.output.renderOutput(dataTable, element);\n",
              "        const docLink = document.createElement('div');\n",
              "        docLink.innerHTML = docLinkHtml;\n",
              "        element.appendChild(docLink);\n",
              "      }\n",
              "    </script>\n",
              "  </div>\n",
              "\n",
              "\n",
              "<div id=\"df-3a3ce54d-6e5e-4419-9b74-b3ab1569ceaf\">\n",
              "  <button class=\"colab-df-quickchart\" onclick=\"quickchart('df-3a3ce54d-6e5e-4419-9b74-b3ab1569ceaf')\"\n",
              "            title=\"Suggest charts\"\n",
              "            style=\"display:none;\">\n",
              "\n",
              "<svg xmlns=\"http://www.w3.org/2000/svg\" height=\"24px\"viewBox=\"0 0 24 24\"\n",
              "     width=\"24px\">\n",
              "    <g>\n",
              "        <path d=\"M19 3H5c-1.1 0-2 .9-2 2v14c0 1.1.9 2 2 2h14c1.1 0 2-.9 2-2V5c0-1.1-.9-2-2-2zM9 17H7v-7h2v7zm4 0h-2V7h2v10zm4 0h-2v-4h2v4z\"/>\n",
              "    </g>\n",
              "</svg>\n",
              "  </button>\n",
              "\n",
              "<style>\n",
              "  .colab-df-quickchart {\n",
              "      --bg-color: #E8F0FE;\n",
              "      --fill-color: #1967D2;\n",
              "      --hover-bg-color: #E2EBFA;\n",
              "      --hover-fill-color: #174EA6;\n",
              "      --disabled-fill-color: #AAA;\n",
              "      --disabled-bg-color: #DDD;\n",
              "  }\n",
              "\n",
              "  [theme=dark] .colab-df-quickchart {\n",
              "      --bg-color: #3B4455;\n",
              "      --fill-color: #D2E3FC;\n",
              "      --hover-bg-color: #434B5C;\n",
              "      --hover-fill-color: #FFFFFF;\n",
              "      --disabled-bg-color: #3B4455;\n",
              "      --disabled-fill-color: #666;\n",
              "  }\n",
              "\n",
              "  .colab-df-quickchart {\n",
              "    background-color: var(--bg-color);\n",
              "    border: none;\n",
              "    border-radius: 50%;\n",
              "    cursor: pointer;\n",
              "    display: none;\n",
              "    fill: var(--fill-color);\n",
              "    height: 32px;\n",
              "    padding: 0;\n",
              "    width: 32px;\n",
              "  }\n",
              "\n",
              "  .colab-df-quickchart:hover {\n",
              "    background-color: var(--hover-bg-color);\n",
              "    box-shadow: 0 1px 2px rgba(60, 64, 67, 0.3), 0 1px 3px 1px rgba(60, 64, 67, 0.15);\n",
              "    fill: var(--button-hover-fill-color);\n",
              "  }\n",
              "\n",
              "  .colab-df-quickchart-complete:disabled,\n",
              "  .colab-df-quickchart-complete:disabled:hover {\n",
              "    background-color: var(--disabled-bg-color);\n",
              "    fill: var(--disabled-fill-color);\n",
              "    box-shadow: none;\n",
              "  }\n",
              "\n",
              "  .colab-df-spinner {\n",
              "    border: 2px solid var(--fill-color);\n",
              "    border-color: transparent;\n",
              "    border-bottom-color: var(--fill-color);\n",
              "    animation:\n",
              "      spin 1s steps(1) infinite;\n",
              "  }\n",
              "\n",
              "  @keyframes spin {\n",
              "    0% {\n",
              "      border-color: transparent;\n",
              "      border-bottom-color: var(--fill-color);\n",
              "      border-left-color: var(--fill-color);\n",
              "    }\n",
              "    20% {\n",
              "      border-color: transparent;\n",
              "      border-left-color: var(--fill-color);\n",
              "      border-top-color: var(--fill-color);\n",
              "    }\n",
              "    30% {\n",
              "      border-color: transparent;\n",
              "      border-left-color: var(--fill-color);\n",
              "      border-top-color: var(--fill-color);\n",
              "      border-right-color: var(--fill-color);\n",
              "    }\n",
              "    40% {\n",
              "      border-color: transparent;\n",
              "      border-right-color: var(--fill-color);\n",
              "      border-top-color: var(--fill-color);\n",
              "    }\n",
              "    60% {\n",
              "      border-color: transparent;\n",
              "      border-right-color: var(--fill-color);\n",
              "    }\n",
              "    80% {\n",
              "      border-color: transparent;\n",
              "      border-right-color: var(--fill-color);\n",
              "      border-bottom-color: var(--fill-color);\n",
              "    }\n",
              "    90% {\n",
              "      border-color: transparent;\n",
              "      border-bottom-color: var(--fill-color);\n",
              "    }\n",
              "  }\n",
              "</style>\n",
              "\n",
              "  <script>\n",
              "    async function quickchart(key) {\n",
              "      const quickchartButtonEl =\n",
              "        document.querySelector('#' + key + ' button');\n",
              "      quickchartButtonEl.disabled = true;  // To prevent multiple clicks.\n",
              "      quickchartButtonEl.classList.add('colab-df-spinner');\n",
              "      try {\n",
              "        const charts = await google.colab.kernel.invokeFunction(\n",
              "            'suggestCharts', [key], {});\n",
              "      } catch (error) {\n",
              "        console.error('Error during call to suggestCharts:', error);\n",
              "      }\n",
              "      quickchartButtonEl.classList.remove('colab-df-spinner');\n",
              "      quickchartButtonEl.classList.add('colab-df-quickchart-complete');\n",
              "    }\n",
              "    (() => {\n",
              "      let quickchartButtonEl =\n",
              "        document.querySelector('#df-3a3ce54d-6e5e-4419-9b74-b3ab1569ceaf button');\n",
              "      quickchartButtonEl.style.display =\n",
              "        google.colab.kernel.accessAllowed ? 'block' : 'none';\n",
              "    })();\n",
              "  </script>\n",
              "</div>\n",
              "\n",
              "    </div>\n",
              "  </div>\n"
            ],
            "application/vnd.google.colaboratory.intrinsic+json": {
              "type": "dataframe",
              "variable_name": "train_df",
              "summary": "{\n  \"name\": \"train_df\",\n  \"rows\": 217,\n  \"fields\": [\n    {\n      \"column\": \"pelvic_incidence\",\n      \"properties\": {\n        \"dtype\": \"number\",\n        \"std\": 18.04567690106131,\n        \"min\": 26.14792141,\n        \"max\": 129.8340406,\n        \"num_unique_values\": 217,\n        \"samples\": [\n          48.90290434,\n          45.07545026,\n          71.24176388\n        ],\n        \"semantic_type\": \"\",\n        \"description\": \"\"\n      }\n    },\n    {\n      \"column\": \"pelvic_tilt\",\n      \"properties\": {\n        \"dtype\": \"number\",\n        \"std\": 10.786425332335066,\n        \"min\": -6.554948347,\n        \"max\": 49.4318636,\n        \"num_unique_values\": 217,\n        \"samples\": [\n          5.587588658,\n          12.30695118,\n          5.268270454\n        ],\n        \"semantic_type\": \"\",\n        \"description\": \"\"\n      }\n    },\n    {\n      \"column\": \"lumbar_lordosis_angle\",\n      \"properties\": {\n        \"dtype\": \"number\",\n        \"std\": 19.226267485605618,\n        \"min\": 14.0,\n        \"max\": 125.7423855,\n        \"num_unique_values\": 202,\n        \"samples\": [\n          79.87401586,\n          53.99999999,\n          30.70619135\n        ],\n        \"semantic_type\": \"\",\n        \"description\": \"\"\n      }\n    },\n    {\n      \"column\": \"sacral_slope\",\n      \"properties\": {\n        \"dtype\": \"number\",\n        \"std\": 13.631235809679323,\n        \"min\": 13.51656811,\n        \"max\": 121.4295656,\n        \"num_unique_values\": 200,\n        \"samples\": [\n          64.02560604,\n          32.47119229,\n          26.10485401\n        ],\n        \"semantic_type\": \"\",\n        \"description\": \"\"\n      }\n    },\n    {\n      \"column\": \"pelvic_radius\",\n      \"properties\": {\n        \"dtype\": \"number\",\n        \"std\": 13.920743752634245,\n        \"min\": 70.08257486,\n        \"max\": 163.0710405,\n        \"num_unique_values\": 217,\n        \"samples\": [\n          137.1082886,\n          147.8946372,\n          110.703107\n        ],\n        \"semantic_type\": \"\",\n        \"description\": \"\"\n      }\n    },\n    {\n      \"column\": \"degree_spondylolisthesis\",\n      \"properties\": {\n        \"dtype\": \"number\",\n        \"std\": 40.965137362593175,\n        \"min\": -11.05817866,\n        \"max\": 418.5430821,\n        \"num_unique_values\": 217,\n        \"samples\": [\n          19.85475919,\n          -8.941709421,\n          38.2598637\n        ],\n        \"semantic_type\": \"\",\n        \"description\": \"\"\n      }\n    },\n    {\n      \"column\": \"class\",\n      \"properties\": {\n        \"dtype\": \"category\",\n        \"num_unique_values\": 3,\n        \"samples\": [\n          \"Hernia\",\n          \"Spondylolisthesis\",\n          \"Normal\"\n        ],\n        \"semantic_type\": \"\",\n        \"description\": \"\"\n      }\n    }\n  ]\n}"
            }
          },
          "metadata": {},
          "execution_count": 21
        }
      ],
      "source": [
        "url1 = \"https://raw.githubusercontent.com/etraunig/Machine-Learning/refs/heads/main/kaggle/task1/train.csv\"\n",
        "url2 = \"https://raw.githubusercontent.com/etraunig/Machine-Learning/refs/heads/main/kaggle/task1/test.csv\"\n",
        "\n",
        "train_df = pd.read_csv(url1, index_col=[0])\n",
        "test_df = pd.read_csv(url2, index_col=[0])\n",
        "\n",
        "X = train_df.drop(columns=['class'])\n",
        "y = train_df['class']\n",
        "# X_train, X_test, y_train, y_test = train_test_split(X, y, test_size=0.15, random_state=42)\n",
        "\n",
        "train_df.head()"
      ]
    },
    {
      "cell_type": "markdown",
      "source": [
        "K-Nearest Neighbors"
      ],
      "metadata": {
        "id": "HXZMo2wblhh1"
      }
    },
    {
      "cell_type": "code",
      "source": [
        "# Search for the best knn model\n",
        "if search_for_model:\n",
        "  # Define hyperparameters to search\n",
        "  param_grid = {\n",
        "      'n_neighbors': [7, 8, 9],\n",
        "      'weights': ['uniform','distance'],\n",
        "      'leaf_size': [1, 2, 3, 4, 5],\n",
        "      'p': [1, 2, 3]\n",
        "  }\n",
        "  # Grid search with cross-validation\n",
        "  grid_search = GridSearchCV(KNeighborsClassifier(), param_grid, n_jobs=-1)\n",
        "  grid_search.fit(X, y)\n",
        "\n",
        "  # Get the best model\n",
        "  best_model = grid_search.best_estimator_\n",
        "  print(\"Best parameters:\", best_model.get_params())\n",
        "  print(\"Best cross-validation score:\", grid_search.best_score_)\n",
        "  best_score = grid_search.best_score_\n",
        "\n",
        "# Hardcoded knn model\n",
        "else:\n",
        "  best_model = KNeighborsClassifier(leaf_size=1, n_neighbors=8, p=3, weights='distance')\n",
        "  cv_scores = cross_val_score(best_model, X, y, cv=5)\n",
        "  print(\"Cross-validation scores:\", cv_scores)\n",
        "  print(\"Mean cross-validation score:\", cv_scores.mean())"
      ],
      "metadata": {
        "id": "ZXD_pm1oh70Y",
        "colab": {
          "base_uri": "https://localhost:8080/"
        },
        "outputId": "3c1d0348-2ea6-42bc-8477-88c37998dde2"
      },
      "execution_count": 22,
      "outputs": [
        {
          "output_type": "stream",
          "name": "stdout",
          "text": [
            "Best parameters: {'algorithm': 'auto', 'leaf_size': 1, 'metric': 'minkowski', 'metric_params': None, 'n_jobs': None, 'n_neighbors': 8, 'p': 3, 'weights': 'distance'}\n",
            "Best cross-validation score: 0.8624735729386892\n"
          ]
        }
      ]
    },
    {
      "cell_type": "markdown",
      "source": [
        "Creating submission file"
      ],
      "metadata": {
        "id": "EfLWEacHmAKc"
      }
    },
    {
      "cell_type": "code",
      "execution_count": 23,
      "metadata": {
        "id": "T2O5mylNbzpQ"
      },
      "outputs": [],
      "source": [
        "def create_submission_file(predictions, test_df, submission_file_name=\"submission.csv\"):\n",
        "    submission_df = pd.DataFrame({'id': test_df.index, 'Target': predictions})\n",
        "    submission_df.to_csv(submission_file_name, index=False)\n",
        "    print(f\"Submission file '{submission_file_name}' created successfully.\")"
      ]
    },
    {
      "cell_type": "code",
      "execution_count": 24,
      "metadata": {
        "id": "x70KPE8MbzpR",
        "colab": {
          "base_uri": "https://localhost:8080/"
        },
        "outputId": "36e26843-dea7-46c9-f5f5-afdc1a69a74e"
      },
      "outputs": [
        {
          "output_type": "stream",
          "name": "stdout",
          "text": [
            "Submission file 'submission.csv' created successfully.\n"
          ]
        }
      ],
      "source": [
        "# Getting the final predictions\n",
        "best_model.fit(X, y)\n",
        "final_predictions = best_model.predict(test_df)\n",
        "\n",
        "# Creating submission file for Kaggle\n",
        "create_submission_file(final_predictions, test_df)"
      ]
    }
  ],
  "metadata": {
    "kernelspec": {
      "display_name": "python3",
      "language": "python",
      "name": "python3"
    },
    "language_info": {
      "codemirror_mode": {
        "name": "ipython",
        "version": 3
      },
      "file_extension": ".py",
      "mimetype": "text/x-python",
      "name": "python",
      "nbconvert_exporter": "python",
      "pygments_lexer": "ipython3",
      "version": "3.9.15"
    },
    "orig_nbformat": 4,
    "colab": {
      "provenance": []
    }
  },
  "nbformat": 4,
  "nbformat_minor": 0
}